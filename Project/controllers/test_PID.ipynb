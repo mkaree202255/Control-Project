{
 "cells": [
  {
   "cell_type": "code",
   "execution_count": 1,
   "metadata": {},
   "outputs": [],
   "source": [
    "import matplotlib.pyplot as plt\n",
    "import numpy as np\n",
    "import PIDController\n",
    "\n",
    "#define Test process\n",
    "alpha, beta = 1, 40\n",
    "T_ambient, T_desired, T_start = 20, 37, 25\n",
    "\n",
    "def next_temp(u, T, dt):\n",
    "    return T+alpha*(T_ambient-T)*dt + beta * u *dt\n",
    "\n",
    "def simulate_temp(controller, setpoint, num_steps=20):\n",
    "    dt = 0.1 # Every time interval dt we set a new control value\n",
    "    T = T_start\n",
    "    T_list = []\n",
    "    u_list = []\n",
    "\n",
    "    for k in range(num_steps):\n",
    "        T_list.append(T)\n",
    "        # ask controller for u value\n",
    "        error_temp = setpoint - T\n",
    "        u = controller.get_control_command(error_temp,dt)\n",
    "        u_list.append(u)\n",
    "        # simulate what the temperature will be after time interval dt\n",
    "        T = next_temp(u, T, dt)\n",
    "\n",
    "    time = dt*np.arange(num_steps)\n",
    "    fig, (ax1, ax2) = plt.subplots(2,1)\n",
    "    ax1.plot(time, np.repeat(setpoint, num_steps), ls=\"--\")\n",
    "    ax1.plot(time, T_list)\n",
    "    ax2.plot(time, u_list)\n",
    "    plt.xlabel(\"time\"); plt.ylabel(\"Temperature\")"
   ]
  },
  {
   "cell_type": "code",
   "execution_count": 2,
   "metadata": {},
   "outputs": [
    {
     "data": {
      "application/vnd.jupyter.widget-view+json": {
       "model_id": "11913bfb6d8c4d66bb469f22086aa5de",
       "version_major": 2,
       "version_minor": 0
      },
      "text/plain": [
       "interactive(children=(FloatSlider(value=0.0, description='Kp', max=0.8, readout_format='.4f', step=0.05), Floa…"
      ]
     },
     "metadata": {},
     "output_type": "display_data"
    },
    {
     "data": {
      "text/plain": [
       "<function __main__.run_pid_temp(Kp, Ki, Kd)>"
      ]
     },
     "execution_count": 2,
     "metadata": {},
     "output_type": "execute_result"
    }
   ],
   "source": [
    "import importlib\n",
    "importlib.reload(PIDController)\n",
    "\n",
    "from ipywidgets import interact\n",
    "import ipywidgets as widgets\n",
    "\n",
    "def run_pid_temp(Kp,Ki,Kd):\n",
    "    pid_controller = PIDController.PIDController(Kp, Ki, Kd, 0, 1)\n",
    "    simulate_temp(pid_controller, T_desired)\n",
    "\n",
    "Kp_slider = widgets.FloatSlider(min=0.0, max=0.8, step=0.05, readout_format='.4f')\n",
    "Ki_slider = widgets.FloatSlider(min=0.0, max=0.2, step=0.01, readout_format='.4f')\n",
    "Kd_slider = widgets.FloatSlider(min=-3e-3, max=3e-3, step=2e-4, readout_format='.4f')\n",
    "interact(run_pid_temp, Kp=Kp_slider, Ki=Ki_slider, Kd=Kd_slider)\n"
   ]
  },
  {
   "cell_type": "code",
   "execution_count": null,
   "metadata": {},
   "outputs": [],
   "source": []
  }
 ],
 "metadata": {
  "kernelspec": {
   "display_name": "Python 3",
   "language": "python",
   "name": "python3"
  },
  "language_info": {
   "codemirror_mode": {
    "name": "ipython",
    "version": 3
   },
   "file_extension": ".py",
   "mimetype": "text/x-python",
   "name": "python",
   "nbconvert_exporter": "python",
   "pygments_lexer": "ipython3",
   "version": "3.7.16"
  },
  "orig_nbformat": 4
 },
 "nbformat": 4,
 "nbformat_minor": 2
}
