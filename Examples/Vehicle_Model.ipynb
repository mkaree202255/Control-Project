{
 "cells": [
  {
   "attachments": {},
   "cell_type": "markdown",
   "metadata": {},
   "source": [
    "# Vehicle Models: Kinematic Bicycle Model\n",
    "\n",
    "## Overview\n",
    "\n",
    "The Vehicle Kinematic Bicycle Model is a simplified representation of a vehicle that is widely used in the field of vehicle dynamics. It provides a useful approximation of a vehicle's motion, steering, and turning dynamics, allowing engineers and researchers to gain insights into its behavior without considering more complex factors such as tire dynamics or vehicle suspensions.\n",
    "\n",
    "In this model, a vehicle is represented as a bicycle with two main wheels: a front wheel and a rear wheel. The front wheel represents the steering dynamics of the vehicle, while the rear wheel represents the propulsion and driving force. The vehicle's motion is described by a set of kinematic equations that relate the vehicle's position, velocity, and acceleration.\n",
    "\n",
    "The Vehicle Kinematic Bicycle Model assumes a few key simplifications and assumptions:\n",
    "\n",
    "1. **Planar Motion**: The model assumes that the vehicle's motion occurs in a two-dimensional plane, neglecting any vertical movements or roll dynamics.\n",
    "\n",
    "2. **Instantaneous Slip Angle**: The slip angle, which is the angle between the direction of the vehicle's velocity and the direction of the front wheel, is assumed to be zero. This assumption simplifies the steering dynamics.\n",
    "\n",
    "3. **Constant Velocity**: The model assumes a constant forward velocity of the vehicle during the analysis. It does not consider acceleration or deceleration explicitly.\n",
    "\n",
    "4. **No Wheel Slip**: The model assumes that the wheels do not experience any slip, which means that they rotate without sliding or skidding.\n",
    "\n",
    "Despite these simplifications, the Vehicle Kinematic Bicycle Model provides valuable insights into vehicle dynamics, such as analyzing turning behavior, stability, and trajectory tracking. It serves as a foundation for more advanced vehicle models and control systems.\n",
    "\n",
    "In the following sections, we will delve deeper into the equations and concepts of the Vehicle Kinematic Bicycle Model."
   ]
  },
  {
   "cell_type": "code",
   "execution_count": 1,
   "metadata": {},
   "outputs": [],
   "source": [
    "from dataclasses import dataclass\n",
    "from typing import Tuple, Union, Optional\n",
    "\n",
    "import ipywidgets as widgets\n",
    "from IPython.display import display, clear_output\n",
    "\n",
    "import numpy as np\n",
    "import matplotlib.pyplot as plt\n",
    "from matplotlib.patches import Rectangle, Arc\n",
    "from matplotlib.transforms import Affine2D\n",
    "\n",
    "from tools.plot_tools import plot_car_perspectives"
   ]
  },
  {
   "attachments": {},
   "cell_type": "markdown",
   "metadata": {},
   "source": [
    "## Vehicle States and Inputs\n",
    "\n",
    "Before we delve into the kinematic equations of the Vehicle Kinematic Bicycle Model, let's first understand the states and inputs that describe the vehicle's motion.\n",
    "\n",
    "Vehicle States ($s$):\n",
    "\n",
    "$$\n",
    "s = \\begin{bmatrix}\n",
    "x  \\\\\n",
    "y \\\\\n",
    "\\psi \\\\\n",
    "v   \n",
    "\\end{bmatrix} \n",
    "$$\n",
    "\n",
    "- $x$: The x-coordinate of the vehicle's position in the 2D plane.\n",
    "- $y$: The y-coordinate of the vehicle's position in the 2D plane.\n",
    "- $\\psi$: The orientation angle of the vehicle with respect to a reference frame.\n",
    "- $v$: The forward velocity of the vehicle.\n",
    "\n",
    "Control Inputs - Actuators ($u$):\n",
    "\n",
    "$$\n",
    "u = \\begin{bmatrix}\n",
    "\\delta  \\\\\n",
    "a    \n",
    "\\end{bmatrix} \n",
    "$$\n",
    "\n",
    "- $\\delta$: The steering angle of the front wheel. It determines the direction of the vehicle's turn.\n",
    "- $a$: The acceleration applied to the vehicle.\n",
    "\n",
    "Now, let's implement the code to represent the vehicle states and control inputs in Python:"
   ]
  },
  {
   "cell_type": "code",
   "execution_count": 2,
   "metadata": {},
   "outputs": [],
   "source": [
    "@dataclass\n",
    "class CarState:\n",
    "    x : float\n",
    "    y : float\n",
    "    psi : float\n",
    "    v : float\n",
    "\n",
    "    def copy(self):\n",
    "        return CarState(self.x, self.y, self.psi, self.v)\n",
    "\n",
    "@dataclass\n",
    "class Actuators:\n",
    "    accel : float\n",
    "    steering_angle : float"
   ]
  },
  {
   "attachments": {},
   "cell_type": "markdown",
   "metadata": {},
   "source": [
    "## Vehicle kinematics equations\n",
    "\n",
    "In this section, we will derive the kinematic equations that describe the motion of the vehicle based on the Vehicle Kinematic Bicycle Model.\n",
    "\n",
    "The vehicle's motion can be represented by the following set of equations:\n",
    "\n",
    "- $ x_{t+1} = x_t + v_t * cos(\\psi_t) * dt$\n",
    "- $ y_{t+1} = y_t + v_t * sin(\\psi_t) *dt $\n",
    "- $ \\psi_{t+1} = \\psi_t + \\frac{v_t}{L_f} * tan(\\delta_t) *dt $\n",
    "- $ v_{t+1} = v_t + a_t *dt $\n",
    "\n",
    "Where:\n",
    "\n",
    "- $x_{t+1}$ and $x_{t}$ are the coordinates of the car in $x$ at time $t+1$ and $t$ respectively.\n",
    "- $y_{t+1}$ and $y_{t}$ are the coordinates of the car in $y$ at time $t+1$ and $t$ respectively.\n",
    "- $\\psi_{t+1}$ and $\\psi_{t}$ are the headings of the car at time $t+1$ and $t$ respectively.\n",
    "- $v_{t+1}$ and $v_t$ are velocities of the car at time $t+1$ and $t$ respectively.\n",
    "- $\\delta_t$ is the steering angle of the front wheel at time $t$.\n",
    "- $a_t$ is the acceleration of the car at time $t$.\n",
    "- $dt$ the time duration between timestep $t$ and timestep $t+1$. \n",
    "- $L_f$ wheelbase lenght in meters.\n",
    "\n",
    "Now, let's implement the kinematic equations in a separate class:\n"
   ]
  },
  {
   "cell_type": "code",
   "execution_count": 3,
   "metadata": {},
   "outputs": [],
   "source": [
    "class KinematicBicycleModel:\n",
    "    \"\"\"\n",
    "    Kinematic Bicycle Model represents a vehicle using a simplified kinematic model.\n",
    "    It calculates the vehicle's next state based on the current state and control inputs.\n",
    "\n",
    "    Args:\n",
    "        wheelbase (float): Distance between the front and rear axles of the vehicle.\n",
    "        car_width (float, optional): Width of the vehicle. Defaults to 1.5.\n",
    "        x0 (float, optional): Initial x-coordinate of the vehicle. Defaults to 0.0.\n",
    "        y0 (float, optional): Initial y-coordinate of the vehicle. Defaults to 0.0.\n",
    "        psi0 (float, optional): Initial orientation angle of the vehicle. Defaults to 0.0.\n",
    "        v0 (float, optional): Initial velocity of the vehicle. Defaults to 0.0.\n",
    "\n",
    "    Methods:\n",
    "        update(u_t, dt=0.01, old_state=None):\n",
    "            Calculates the next state of the vehicle based on control inputs and timestep.\n",
    "            Can also update a different input state if specified.\n",
    "            Returns the updated state.\n",
    "\n",
    "        get_state():\n",
    "            Returns the current state of the vehicle.\n",
    "\n",
    "    \"\"\"\n",
    "\n",
    "    def __init__(self, wheelbase : float, car_width : float = 1.5, x0:float = 0.0, y0 : float = 0.0 , psi0: float = 0.0, v0 = 0.0):\n",
    "        \"\"\"\n",
    "        Initializes the KinematicBicycleModel with the provided parameters.\n",
    "\n",
    "        Args:\n",
    "            wheelbase (float): Distance between the front and rear axles of the vehicle.\n",
    "            car_width (float, optional): Width of the vehicle. Defaults to 1.5.\n",
    "            x0 (float, optional): Initial x-coordinate of the vehicle. Defaults to 0.0.\n",
    "            y0 (float, optional): Initial y-coordinate of the vehicle. Defaults to 0.0.\n",
    "            psi0 (float, optional): Initial orientation angle of the vehicle. Defaults to 0.0.\n",
    "            v0 (float, optional): Initial velocity of the vehicle. Defaults to 0.0.\n",
    "        \"\"\"\n",
    "        self._wheelbase = wheelbase\n",
    "        self._width = car_width\n",
    "        self._state = CarState(x0, y0, psi0, v0)\n",
    "        \n",
    "    def update(self, u_t : Actuators, dt:float = 0.01, old_state : CarState = None) -> CarState:\n",
    "        \"\"\"\n",
    "        Updates the vehicle's state based on the control inputs and timestep.\n",
    "\n",
    "        Args:\n",
    "            u_t (Actuators): Control inputs for the vehicle (acceleration and steering angle).\n",
    "            dt (float, optional): Timestep for the update. Defaults to 0.01.\n",
    "            old_state (CarState, optional): State of the vehicle to update. If None, uses the stored state. Defaults to None.\n",
    "\n",
    "        Returns:\n",
    "            CarState: Updated state of the vehicle.\n",
    "        \"\"\"\n",
    "        \n",
    "        # Current State\n",
    "        x_t = self._state.x\n",
    "        y_t = self._state.y\n",
    "        psi_t = self._state.psi\n",
    "        v_t = self._state.v\n",
    "\n",
    "        # In case we want to update a different state, rather than the one\n",
    "        # stored in the model class.\n",
    "        if not old_state is None:\n",
    "            x_t = old_state.x\n",
    "            y_t = old_state.y\n",
    "            psi_t = old_state.psi\n",
    "            v_t = old_state.v\n",
    "    \n",
    "        # Control signals\n",
    "        a_t = u_t.accel\n",
    "        delta_t = u_t.steering_angle\n",
    "\n",
    "        # Kinematic Bicycle Model equations\n",
    "        x_new = x_t + v_t * np.cos(psi_t) * dt\n",
    "        y_new = y_t + v_t * np.sin(psi_t) * dt\n",
    "        psi_new = psi_t + (v_t/self._wheelbase) * np.tan(delta_t) * dt\n",
    "        v_new = v_t + a_t * dt\n",
    "\n",
    "        # Update model state\n",
    "        self._state.x = x_new\n",
    "        self._state.y = y_new\n",
    "        self._state.psi = psi_new\n",
    "        self._state.v = v_new\n",
    "        return self._state.copy()\n",
    "    \n",
    "    def get_state(self)-> CarState:\n",
    "        \"\"\"\n",
    "        Returns the current state of the vehicle.\n",
    "\n",
    "        Returns:\n",
    "            CarState: Current state of the vehicle.\n",
    "        \"\"\"\n",
    "        return self._state"
   ]
  },
  {
   "attachments": {},
   "cell_type": "markdown",
   "metadata": {},
   "source": [
    "The `KinematicBicycleModel` class encapsulates the vehicle kinematic model. It is initialized with the car parameters and the initial state of the vehicle. The `update` function calculates the next state of the vehicle based on a control input and a timestep. Additionally, it provides the flexibility to calculate the next state based on a different input state than the one stored in the class.\n",
    "\n",
    "Let's create a plotting function to visualize the car's state and its updates over time."
   ]
  },
  {
   "cell_type": "code",
   "execution_count": 4,
   "metadata": {},
   "outputs": [],
   "source": [
    "def plot_car(state : CarState, t: float, wheelbase=2.5, car_width = 1.5, output = widgets.Output):\n",
    "    \"\"\"\n",
    "    Plots the car based on its current state.\n",
    "\n",
    "    Args:\n",
    "        state (CarState): Current state of the car.\n",
    "        t (float): Time value.\n",
    "        wheelbase (float, optional): Distance between the front and rear axles of the car. Defaults to 2.5.\n",
    "        car_width (float, optional): Width of the car. Defaults to 1.5.\n",
    "        output (widgets.Output, optional): Output widget for displaying the plot. Defaults to widgets.Output.\n",
    "\n",
    "    Returns:\n",
    "        None\n",
    "    \"\"\"\n",
    "    \n",
    "    with output:\n",
    "        clear_output(wait=True)\n",
    "        fig, ax = plt.subplots(figsize=(5,5))\n",
    "\n",
    "        ts = ax.transData\n",
    "        tr = Affine2D().rotate_deg_around(state.x, state.y, np.rad2deg(state.psi))\n",
    "\n",
    "        car_rect = Rectangle((state.x-wheelbase/2, \n",
    "                              state.y-car_width/2), \n",
    "                              wheelbase, \n",
    "                              car_width, \n",
    "                              transform = tr + ts,\n",
    "                              facecolor = 'gray',\n",
    "                              fill = True)\n",
    "        \n",
    "        ax.add_patch(car_rect)\n",
    "        ax.plot(state.x, state.y, 'r.')\n",
    "        ax.set_xlim(state.x-10, state.x+10)\n",
    "        ax.set_ylim(state.y-10, state.y+10)\n",
    "        ax.text(state.x-9, state.y+3, \n",
    "                r'$\\mathbf{time:}$' + f' {t:.2f} s\\n' +\n",
    "                r'$\\mathbf{x:}$' + f' {state.x:.2f} m\\n' + \n",
    "                r'$\\mathbf{y:}$' + f' {state.y:.2f} m\\n' +\n",
    "                r'$\\mathbf{psi:}$' + f' {np.rad2deg(state.psi):.2f} °\\n' +\n",
    "                r'$\\mathbf{v:}$' + f' {state.v:.2f} ' +  r'$\\frac{m}{s}$' + '\\n',\n",
    "                bbox=dict(facecolor='white', edgecolor='black', boxstyle='round,pad=0.5'))\n",
    "        plt.gca().set_aspect('equal', adjustable='box')\n",
    "        plt.show()"
   ]
  },
  {
   "attachments": {},
   "cell_type": "markdown",
   "metadata": {},
   "source": [
    "The code provided demonstrates the creation of a car object and the setup for a simulation where the car's state and its updates over time will be visualized. \n",
    "\n",
    "**Car Creation:** The car object is created using the `KinematicBicycleModel` class, with the specified parameters such as the wheelbase, car width, and initial orientation (psi0).\n",
    "\n",
    "**Button and Sliders:** Three sliders are defined using the `widgets.FloatSlider` class. These sliders allow the user to control the acceleration (`accel_slider`), steering angle (`steering_slider`), and time step (`dt_slider`). An update button (`update_button`) is also defined.\n",
    "\n",
    "**Event Handling:** An event handler function (`on_update_button_clicked`) is defined to handle the button click event. When the update button is clicked, this function retrieves the values from the sliders, updates the car's state based on the provided inputs, and plots the updated state.\n",
    "\n",
    "**Initial State and Plot:** The initial state of the car is updated with zero acceleration and zero steering angle (`Actuators(0, 0)`) using the car.update method. The initial state is then plotted using the plot_car function.\n",
    "\n",
    "Overall, this code sets up a simulation environment where the user can interactively control the car's acceleration and steering angle using sliders, and observe the car's state and updates over time through the plot displayed in the output widget."
   ]
  },
  {
   "cell_type": "code",
   "execution_count": 5,
   "metadata": {},
   "outputs": [
    {
     "data": {
      "application/vnd.jupyter.widget-view+json": {
       "model_id": "12ffc9a2821e4542bc312656e2a0a91b",
       "version_major": 2,
       "version_minor": 0
      },
      "text/plain": [
       "FloatSlider(value=0.01, continuous_update=False, description='time step (s):', max=1.0, min=0.01, step=0.05)"
      ]
     },
     "metadata": {},
     "output_type": "display_data"
    },
    {
     "data": {
      "application/vnd.jupyter.widget-view+json": {
       "model_id": "ac05db3b8d22423da102a404dd0f09e1",
       "version_major": 2,
       "version_minor": 0
      },
      "text/plain": [
       "FloatSlider(value=0.0, continuous_update=False, description='accel(m/s^2):', max=2.0, min=-2.0, step=0.01)"
      ]
     },
     "metadata": {},
     "output_type": "display_data"
    },
    {
     "data": {
      "application/vnd.jupyter.widget-view+json": {
       "model_id": "451f6f7e50794e7298b13afa0a3c4b4a",
       "version_major": 2,
       "version_minor": 0
      },
      "text/plain": [
       "FloatSlider(value=0.0, continuous_update=False, description='δ (deg):', max=30.0, min=-30.0)"
      ]
     },
     "metadata": {},
     "output_type": "display_data"
    },
    {
     "data": {
      "application/vnd.jupyter.widget-view+json": {
       "model_id": "bc7b71cff5394a17b7071efd3cc92dfd",
       "version_major": 2,
       "version_minor": 0
      },
      "text/plain": [
       "Button(description='Update', style=ButtonStyle())"
      ]
     },
     "metadata": {},
     "output_type": "display_data"
    },
    {
     "data": {
      "application/vnd.jupyter.widget-view+json": {
       "model_id": "d7908fef5f3b4c4fb604fdffe51462aa",
       "version_major": 2,
       "version_minor": 0
      },
      "text/plain": [
       "Output()"
      ]
     },
     "metadata": {},
     "output_type": "display_data"
    }
   ],
   "source": [
    "# Create car\n",
    "wheelbase = 2.5 # m\n",
    "car_width = 1.5 # m\n",
    "psi0 = 90 # degrees\n",
    "\n",
    "car = KinematicBicycleModel(wheelbase, car_width= car_width, psi0 = np.radians(psi0))\n",
    "\n",
    "# Define simulation time step\n",
    "t = 0\n",
    "\n",
    "# Define output widget for the plot\n",
    "output = widgets.Output()\n",
    "\n",
    "# Define what happens when buttons are clicked\n",
    "def on_update_button_clicked(b):\n",
    "    global t\n",
    "    u_t = Actuators(accel_slider.value, -np.radians(steering_slider.value))\n",
    "    dt = dt_slider.value\n",
    "    state = car.update(u_t, dt)\n",
    "    t += dt\n",
    "    plot_car(state, t, output=output, wheelbase=car._wheelbase, car_width=car._width)\n",
    "\n",
    "# Define buttons\n",
    "update_button = widgets.Button(description='Update')\n",
    "\n",
    "# Define acceleration slider\n",
    "accel_slider = widgets.FloatSlider(\n",
    "value=0,\n",
    "min=-2.0,\n",
    "max=2.0,\n",
    "step=0.01,\n",
    "description='accel(m/s^2):',\n",
    "continuous_update=False\n",
    ")\n",
    "\n",
    "steering_slider = widgets.FloatSlider(\n",
    "    value=0,\n",
    "    min=-30.0,\n",
    "    max=30.0,\n",
    "    step=0.1,\n",
    "    description='δ (deg):',\n",
    "    continuous_update=False\n",
    ")\n",
    "\n",
    "dt_slider = widgets.FloatSlider(\n",
    "    value=0.00,\n",
    "    min=0.01,\n",
    "    max=1,\n",
    "    step=0.05,\n",
    "    description='time step (s):',\n",
    "    continuous_update=False\n",
    ")\n",
    "\n",
    "# Attach the event to the buttons\n",
    "update_button.on_click(on_update_button_clicked)\n",
    "\n",
    "# Display slider, arrow keys and output\n",
    "display(dt_slider, accel_slider, steering_slider, update_button, output)\n",
    "\n",
    "# plot first state\n",
    "state = car.update(Actuators(0,0), dt_slider.value)\n",
    "plot_car(state, t, output=output, wheelbase=car._wheelbase, car_width=car._width)"
   ]
  },
  {
   "attachments": {},
   "cell_type": "markdown",
   "metadata": {},
   "source": [
    "## Polynomial fitting\n",
    "\n",
    "Understanding the concept of polynomial fitting and its relevance to cross track error calculation is crucial in autonomous vehicle applications. Polynomial fitting allows us to approximate a smooth curve that closely represents a set of data points. In the context of cross track error calculation, polynomial fitting enables us to estimate the desired trajectory and measure the deviation of the vehicle from that trajectory.\n",
    "\n",
    "To illustrate this concept, let's consider an example where we have a set of reference waypoints representing the desired path for the autonomous vehicle. We will fit a polynomial curve to these waypoints and use it to calculate the cross track error at any given point. The example consist of a path calculated from the path planner module of the vehicle store in."
   ]
  },
  {
   "cell_type": "code",
   "execution_count": 6,
   "metadata": {},
   "outputs": [
    {
     "data": {
      "text/plain": [
       "<function matplotlib.pyplot.show(close=None, block=None)>"
      ]
     },
     "execution_count": 6,
     "metadata": {},
     "output_type": "execute_result"
    },
    {
     "data": {
      "image/png": "[encoded data removed]",
      "text/plain": [
       "<Figure size 640x480 with 1 Axes>"
      ]
     },
     "metadata": {},
     "output_type": "display_data"
    }
   ],
   "source": [
    "import json\n",
    "\n",
    "# Load path from json\n",
    "data = None\n",
    "with open('dataset/path.json', 'r') as file:\n",
    "    data = json.load(file)\n",
    "\n",
    "path = np.asarray(data[\"path\"])\n",
    "\n",
    "\n",
    "# plot path\n",
    "fig, ax = plt.subplots()\n",
    "plt.plot(path[:,0], path[:,1], 'ro', label='Reference Waypoints')\n",
    "ax.legend()\n",
    "ax.grid()\n",
    "plt.show\n"
   ]
  },
  {
   "attachments": {},
   "cell_type": "markdown",
   "metadata": {},
   "source": [
    "In the code above, we fit a polynomial curve to the reference waypoints using the `np.polyfit` function. We specify the `degree` of the polynomial curve as degree (you can adjust this value as needed). The resulting coefficients are stored in the coefficients array. We then create a polynomial function `fitted_curve` using `np.poly1d` to represent the fitted curve.\n",
    "\n",
    "To calculate the cross track error, we assume a specific point with known x_point (the current x-coordinate of the vehicle's position). We use the fitted curve to determine the corresponding `y_point` (the y-coordinate of the fitted curve at the given x-coordinate). Finally, we compute the difference between `y_point` and the actual y-coordinate to obtain the cross track error.\n",
    "\n",
    "To visualize the fitted curve and cross track error, we plot the reference waypoints, the fitted curve, the current position as a blue dot, and a dashed green line indicating the cross track error."
   ]
  },
  {
   "cell_type": "code",
   "execution_count": 7,
   "metadata": {},
   "outputs": [
    {
     "data": {
      "image/png": "[encoded data removed]",
      "text/plain": [
       "<Figure size 640x480 with 1 Axes>"
      ]
     },
     "metadata": {},
     "output_type": "display_data"
    }
   ],
   "source": [
    "# Extract the data\n",
    "xs = path[:,0]\n",
    "ys = path[:,1]\n",
    "\n",
    "# Example car state\n",
    "state = CarState(217, 10, 13, 0)\n",
    "\n",
    "# specify the degree of the polynomial \n",
    "degree = 3\n",
    "\n",
    "# Fit a polynomial curve\n",
    "coeff = np.polyfit(xs,ys, deg=degree)\n",
    "fitted_curve = np.poly1d(coeff)\n",
    "\n",
    "# Calculate cross track error for a specific point\n",
    "x_point = state.x # x-coordinate of the vehicle's current position\n",
    "y_point = fitted_curve(x_point)  # y-coordinate of the fitted curve at the given x-coordinate\n",
    "cross_track_error = y_point - state.y  # calculate the difference between the fitted curve and the actual y-coordinate\n",
    "\n",
    "# Visualize the fitted curve and the cross track error\n",
    "plt.plot(xs, ys, 'ro', label='Reference Waypoints')\n",
    "plt.plot(xs, fitted_curve(xs), label='Fitted Curve')\n",
    "plt.plot(x_point, state.y, 'bo', label='Current Position')\n",
    "plt.plot([x_point, x_point], [y_point, state.y], 'g--', label='Cross Track Error')\n",
    "plt.xlabel('x [m]')\n",
    "plt.ylabel('y [m]')\n",
    "plt.legend()\n",
    "plt.grid()\n",
    "plt.show()\n"
   ]
  },
  {
   "attachments": {},
   "cell_type": "markdown",
   "metadata": {},
   "source": [
    "Here is an interactive example where you can change the degree"
   ]
  },
  {
   "cell_type": "code",
   "execution_count": 8,
   "metadata": {},
   "outputs": [
    {
     "data": {
      "application/vnd.jupyter.widget-view+json": {
       "model_id": "a68e736e635d45c9b6aaf59fa42a74b9",
       "version_major": 2,
       "version_minor": 0
      },
      "text/plain": [
       "interactive(children=(IntSlider(value=1, description='deg', max=9), Output()), _dom_classes=('widget-interact'…"
      ]
     },
     "metadata": {},
     "output_type": "display_data"
    },
    {
     "data": {
      "text/plain": [
       "<function __main__.run_polyfit(deg)>"
      ]
     },
     "execution_count": 8,
     "metadata": {},
     "output_type": "execute_result"
    }
   ],
   "source": [
    "import json\n",
    "from ipywidgets import interact\n",
    "import ipywidgets as widgets\n",
    "\n",
    "def run_polyfit(deg):\n",
    "    xs = path[:,0]\n",
    "    ys = path[:,1]\n",
    "\n",
    "    # Fit a polynomial curve\n",
    "    coeff = np.polyfit(xs,ys, deg=deg)\n",
    "    fitted_curve = np.poly1d(coeff)\n",
    "\n",
    "    # Calculate cross track error for a specific point\n",
    "    state = CarState(217, 10, 13, 0)\n",
    "    x_point = state.x # x-coordinate of the vehicle's current position\n",
    "    y_point = fitted_curve(x_point)  # y-coordinate of the fitted curve at the given x-coordinate\n",
    "    cross_track_error = y_point - state.y  # calculate the difference between the fitted curve and the actual y-coordinate\n",
    "    \n",
    "    # plot path and calculated polynomial\n",
    "    fig, ax = plt.subplots()\n",
    "    ax.plot(xs, ys, 'ro', label='Reference Waypoints')\n",
    "    ax.plot(xs, fitted_curve(xs), label='Fitted Curve')\n",
    "    ax.plot(x_point, state.y, 'bo', label='Current Position')\n",
    "    ax.plot([x_point, x_point], [y_point, state.y], 'g--', label='Cross Track Error')\n",
    "    ax.set_xlabel('x [m]')\n",
    "    ax.set_ylabel('y [m]')\n",
    "    ax.set_xlim([xs[0]- 0.1, xs[-1]+0.1])\n",
    "    ax.set_ylim([ys[0]- 0.1, ys[-1]+0.1])\n",
    "    ax.legend()\n",
    "    ax.grid()\n",
    "    plt.show()\n",
    "\n",
    "# Load path from json\n",
    "file = open('dataset/path.json', 'r')\n",
    "data = json.load(file)\n",
    "path = np.asarray(data[\"path\"])\n",
    "file.close()\n",
    "\n",
    "# Define deg slider\n",
    "deg_slider = widgets.IntSlider( value=1, min=0, max=9, step=1)\n",
    "interact(run_polyfit, deg=deg_slider)"
   ]
  },
  {
   "attachments": {},
   "cell_type": "markdown",
   "metadata": {},
   "source": [
    "# Polyfit in vehicle perspective"
   ]
  },
  {
   "attachments": {},
   "cell_type": "markdown",
   "metadata": {},
   "source": [
    "Polynomial fitting is a mathematical technique used to approximate a smooth curve that best represents a set of data points. In the context of autonomous vehicles, polynomial fitting plays a crucial role in estimating and modeling the desired trajectory for path planning and control.\n",
    "\n",
    "When calculating cross track error, it is important to use local coordinates rather than global coordinates. Local coordinates are defined with respect to a reference frame, typically aligned with the desired trajectory. By using local coordinates, we can simplify the calculation of cross track error and ensure accurate and reliable results.\n",
    "\n",
    "Using local coordinates offers several advantages:\n",
    "\n",
    "- **Simpler Calculation:** With local coordinates, the calculation of cross track error becomes simpler as it involves measuring the lateral distance between the vehicle's position and the fitted curve in the vehicle coordinate system.\n",
    "- **Robustness to Orientation Changes:** Local coordinates are inherently robust to changes in the vehicle's orientation. As long as the vehicle remains close to the desired trajectory, the cross track error calculation remains consistent.\n",
    "- **Modularity and Flexibility:** Local coordinates allow us to separate the trajectory modeling and cross track error calculation from the global coordinate system, providing modularity and flexibility in the algorithm design and implementation.\n",
    "\n",
    "To utilize local coordinates, it is essential to have a reference frame aligned with the desired trajectory. This reference frame can be established through techniques such as coordinate transformation.\n",
    "\n",
    "For this we will use homegeneous transformation. We know that the transformation of the car with respect to the global coordinates is given by the state of the car.\n",
    "\n",
    "$$T<t_x,t_y,\\psi>$$\n",
    "\n",
    "Given a point $\\hat{p}$ in local coordinates, we can express that point in global coordinates $p$ as:\n",
    "\n",
    "$$p = R\\hat{p}+t$$\n",
    "\n",
    "$$\n",
    "R = \\begin{bmatrix}\n",
    "cos(\\psi) & -sin(\\psi)  \\\\\n",
    "sin(\\psi) & cos(\\psi)\\\\\n",
    "\\end{bmatrix} \n",
    "$$\n",
    "\n",
    "$$\n",
    "t = \\begin{bmatrix}\n",
    "t_x  \\\\\n",
    "t_y \\\\\n",
    "\\end{bmatrix} \n",
    "$$\n",
    "\n",
    "Where:\n",
    "\n",
    "- $R$ is the rotation matrix.\n",
    "- $t$ the translation vector.\n",
    "- $t_x$ the x position of the car\n",
    "- $t_y$ the y position of the car\n",
    "\n",
    "Manipulating the transformation equation we obtain that:\n",
    "\n",
    "$$\\hat{p} = R^{-1}(p-t)$$\n",
    "\n",
    "Lets code this in a function called `path_to_car_perspective`"
   ]
  },
  {
   "cell_type": "code",
   "execution_count": 9,
   "metadata": {},
   "outputs": [],
   "source": [
    "def path_to_car_perspective(car_state: CarState, path : np.array)-> np.array:\n",
    "    path_transformed = path.copy()\n",
    "    # dx\n",
    "    path_transformed[:,0] = path_transformed[:,0] - car_state.x\n",
    "    # dy\n",
    "    path_transformed[:,1] = path_transformed[:,1] - car_state.y\n",
    "    # angle\n",
    "    angle = car_state.psi+np.pi/2\n",
    "    # Rotation matrix\n",
    "    R = [[np.cos(-angle), -np.sin(-angle)],\n",
    "         [np.sin(-angle), np.cos(-angle)]]\n",
    "\n",
    "    # Apply rotation\n",
    "    path_transformed = R@path_transformed.T\n",
    "\n",
    "    return path_transformed.T"
   ]
  },
  {
   "attachments": {},
   "cell_type": "markdown",
   "metadata": {},
   "source": [
    "Now we will create an example to show the difference of the path in the different perspectives."
   ]
  },
  {
   "cell_type": "code",
   "execution_count": 10,
   "metadata": {},
   "outputs": [
    {
     "data": {
      "image/png": "[encoded data removed]",
      "text/plain": [
       "<Figure size 1000x500 with 2 Axes>"
      ]
     },
     "metadata": {},
     "output_type": "display_data"
    }
   ],
   "source": [
    "# Load path from json\n",
    "file = open('dataset/path.json', 'r')\n",
    "data = json.load(file)\n",
    "path = np.asarray(data[\"path\"])\n",
    "file.close()\n",
    "\n",
    "# Create car\n",
    "\n",
    "wheelbase = 2.5 # m\n",
    "car_width = 1.5 # m\n",
    "x0 = path[0,0]\n",
    "y0 = path[0,1]\n",
    "psi0 = 0.0 # degrees\n",
    "\n",
    "car = KinematicBicycleModel(wheelbase, car_width= car_width,x0 = x0, y0=y0, psi0 = np.radians(psi0))\n",
    "state = car.get_state()\n",
    "path_transformed = path_to_car_perspective(state, path)\n",
    "plot_car_perspectives(state, path, path_transformed)"
   ]
  },
  {
   "attachments": {},
   "cell_type": "markdown",
   "metadata": {},
   "source": [
    "Next we can create an interactive example to show how does the path change when we move the vehicle around the waypoints.\n",
    "\n",
    "You can use the `idx` slider to change in which waypoint is the vehicle and `psi0` the orientation of the vehicle."
   ]
  },
  {
   "cell_type": "code",
   "execution_count": 11,
   "metadata": {},
   "outputs": [
    {
     "data": {
      "application/vnd.jupyter.widget-view+json": {
       "model_id": "cbcbb18328bd4e73bba83eb2c9865826",
       "version_major": 2,
       "version_minor": 0
      },
      "text/plain": [
       "interactive(children=(IntSlider(value=0, description='idx', max=20), IntSlider(value=0, description='psi0', ma…"
      ]
     },
     "metadata": {},
     "output_type": "display_data"
    },
    {
     "data": {
      "text/plain": [
       "<function __main__.run_change_s0(idx, psi0)>"
      ]
     },
     "execution_count": 11,
     "metadata": {},
     "output_type": "execute_result"
    }
   ],
   "source": [
    "# Define deg slider\n",
    "def run_change_s0(idx, psi0):\n",
    "    # Create car\n",
    "\n",
    "    wheelbase = 2.5 # m\n",
    "    car_width = 1.5 # m\n",
    "    x0 = path[idx,0]\n",
    "    y0 = path[idx,1]\n",
    "    psi0 = psi0 # degrees\n",
    "    car = KinematicBicycleModel(wheelbase, car_width= car_width,x0 = x0, y0=y0, psi0 = np.radians(psi0))\n",
    "    state = car.get_state()\n",
    "    path_transformed = path_to_car_perspective(state, path)\n",
    "    plot_car_perspectives(state, path, path_transformed)\n",
    "\n",
    "idx_slider = widgets.IntSlider( value=0, min=0, max=20, step=1)\n",
    "heading_slider = widgets.IntSlider( value=0, min=0, max=90, step=1)\n",
    "\n",
    "interact(run_change_s0, idx=idx_slider, psi0=heading_slider)"
   ]
  },
  {
   "attachments": {},
   "cell_type": "markdown",
   "metadata": {},
   "source": [
    "Let's explore the behavior of cross track error and heading error from the vehicle's perspective as the car moves along the map. We have developed an interactive code that allows you to adjust various parameters and observe their impact on the fitted curve and error calculations in real-time. This interactive environment provides a professional and detailed analysis of the effects of different settings.\n",
    "\n",
    "Using sliders, you can precisely control the polynomial degree, x-offset, y-offset, and initial heading of the vehicle. As you make adjustments, the code will update the fitted curve and calculate the corresponding cross track error and heading error. This dynamic visualization enables you to gain a comprehensive understanding of how changes in these parameters affect the vehicle's trajectory and error measurements."
   ]
  },
  {
   "cell_type": "code",
   "execution_count": 12,
   "metadata": {},
   "outputs": [
    {
     "data": {
      "application/vnd.jupyter.widget-view+json": {
       "model_id": "a4b2ee42656e4d24826559673a1a82a3",
       "version_major": 2,
       "version_minor": 0
      },
      "text/plain": [
       "interactive(children=(IntSlider(value=3, description='deg', max=9), FloatSlider(value=0.0, description='x_offs…"
      ]
     },
     "metadata": {},
     "output_type": "display_data"
    },
    {
     "data": {
      "text/plain": [
       "<function __main__.run_polyfit_transformed(deg, x_offset, y_offset, psi0)>"
      ]
     },
     "execution_count": 12,
     "metadata": {},
     "output_type": "execute_result"
    }
   ],
   "source": [
    "def run_polyfit_transformed(deg, x_offset, y_offset, psi0):\n",
    "    # Define cars parameters\n",
    "    wheelbase = 1.5 # m\n",
    "    car_width = 0.5 # m\n",
    "    x0 = path[0,0] + x_offset   # Lets set is position to be in the first point\n",
    "    y0 = path[0,1] + y_offset   # of the path with an offset controlled by the user\n",
    "    psi0 = psi0 # Set cars headings\n",
    "\n",
    "    # Create car model\n",
    "    car = KinematicBicycleModel(wheelbase, car_width= car_width,x0 = x0, y0=y0, psi0 = np.radians(psi0))\n",
    "    \n",
    "    # Get car State\n",
    "    state = car.get_state()\n",
    "    # Transform path to follow, into cars perspective\n",
    "    path_transformed = path_to_car_perspective(state, path)\n",
    "    \n",
    "    # Perferm polynomial fitting to that path\n",
    "    xs = path_transformed[:,1]\n",
    "    ys = path_transformed[:,0] \n",
    "    coeff = np.polyfit(xs, ys, deg=deg)\n",
    "    \n",
    "    # calculate errors\n",
    "    # As we are in cars perspective, the state of the car in its own perspective is\n",
    "    # x=0, y=0 and heading=0\n",
    "    # Theferefore, the cross track error would be:\n",
    "    # cte = f(x) - y\n",
    "    # as f(x) is a polynomial: f(0) = bias of the polynomial\n",
    "    # np.polyfit gives the coefficient in inverse order.\n",
    "    # therefor the bias is coeff[-1]\n",
    "    # the cte = f(0) - y = coeff[-1] - 0 = coeff[-1] \n",
    "    cte = coeff[-1]\n",
    "\n",
    "    # For the error in heading, we have that:\n",
    "    # epsi = desired_heading - current_heading\n",
    "    # as we are in cars perspective, current_heading = 0\n",
    "    # and desired_heading = arctan(-f'(x)). as x=0\n",
    "    # desired_heading = arctan(-f'(0))\n",
    "    # however, f'(0) is equal to the coefficient that \n",
    "    # multiplies x^1. \n",
    "    # np.polyfit give us that coefficient in (coeff[-2])\n",
    "    # therefore:\n",
    "    # epsi = desired_heading - current_heading\n",
    "    # epsi = arctan(-f'(0)) - 0\n",
    "    # epsi = arctan(-coeff[-2])\n",
    "    epsi = np.arctan(-coeff[-2])\n",
    "    # To degress for showing porpuses\n",
    "    epsi_deg = np.rad2deg(epsi)\n",
    "\n",
    "    # Plot path\n",
    "    fig, ax = plt.subplots()\n",
    "    ax.plot(-ys, -xs,'ro', label='Waypoints in car perspective')\n",
    "\n",
    "    # Plot polynomial fitting\n",
    "    xs_p = np.linspace(xs[0], xs[-1], 100)\n",
    "    ys_p = np.polyval(coeff, xs_p)\n",
    "    ax.plot(-ys_p, -xs_p, label='Polynomial Fitting')\n",
    "\n",
    "    # Plot Cross Track error\n",
    "    ax.plot([0,-np.polyval(coeff, 0)], [0,0], \"orange\", label=\"Cross Track Error\")\n",
    "    \n",
    "    # Plot Heading error\n",
    "    ax.plot([0,-3*np.sin(epsi)], [0, 3*np.cos(epsi)], \"--g\", label=\"Error Heading\")\n",
    "    if epsi < 0:\n",
    "        arc = Arc((0, 0), 1, 1, angle=90, theta1=epsi_deg, theta2=0, color='green')\n",
    "    else:\n",
    "        arc = Arc((0, 0), 1, 1, angle=90, theta1=0, theta2=epsi_deg, color='green')\n",
    "\n",
    "    ax.add_patch(arc)\n",
    "\n",
    "    # Plot car\n",
    "    # In car perspective, x goes to the front of the car, y to the sides\n",
    "    ts = ax.transData\n",
    "    tr = Affine2D().rotate_deg_around(0, 0, np.rad2deg(np.pi/2))\n",
    "    car_rect = Rectangle((0-wheelbase/2,\n",
    "                            0-car_width/2),\n",
    "                            wheelbase,\n",
    "                            car_width,\n",
    "                            transform = tr + ts,\n",
    "                            facecolor = 'gray',\n",
    "                            fill = True)\n",
    "\n",
    "    ax.add_patch(car_rect)\n",
    "\n",
    "    # Added text\n",
    "    text = [f\"a{deg-(i)}: {coeff[i]:.3f}\" for i in range(deg+1)]\n",
    "    text = \"\\n\".join(text)\n",
    "    title = \"+\".join([rf\"$a_{i}X^{i}$\" for i in range(deg,-1,-1)])\n",
    "    ax.set_title(title)\n",
    "    ax.text(-3.5, -1.5, \n",
    "            r'$\\mathbf{Coeff:}$' + text,\n",
    "            bbox=dict(facecolor='white', edgecolor='black', boxstyle='round,pad=0.5'))\n",
    "    ax.text(1.5, -1.5, \n",
    "            r'$\\mathbf{cte:}$' + f\"{cte:.3f} m\\n\"+\n",
    "            r'$\\mathbf{e_\\psi:}$' + f\"{epsi_deg:.3f}°\\n\",\n",
    "            bbox=dict(facecolor='white', edgecolor='black', boxstyle='round,pad=0.5'))\n",
    "    \n",
    "    # Plot parameters\n",
    "    ax.set_xlabel(\"y [m]\")\n",
    "    ax.set_ylabel(\"x [m]\")\n",
    "    ax.set_xlim(-4,4)\n",
    "    ax.set_ylim(-2.5,5)\n",
    "    ax.legend()\n",
    "    ax.grid()\n",
    "    plt.show\n",
    "\n",
    "x_slider = widgets.FloatSlider(value=0, min=-20, max=20, step=0.01, layout=widgets.Layout(width='500px'))\n",
    "y_slider = widgets.FloatSlider(value=0, min=-20, max=20, step=0.01, layout=widgets.Layout(width='500px'))\n",
    "heading_slider = widgets.IntSlider( value=0, min=-90, max=90, step=1, layout=widgets.Layout(width='500px'))\n",
    "deg_slider = widgets.IntSlider(value=3, min=0, max=9, step=1)\n",
    "\n",
    "interact(run_polyfit_transformed, deg = deg_slider, x_offset=x_slider, y_offset = y_slider, psi0=heading_slider)"
   ]
  },
  {
   "attachments": {},
   "cell_type": "markdown",
   "metadata": {},
   "source": [
    "## Everything together\n",
    "\n",
    "Let us now integrate all the components and run a simulated scenario where you can control the vehicle's behavior using the kinematic bicycle model, while observing the effects of transforming the path to local coordinates and performing polynomial fitting.\n",
    "\n",
    "The objective of this simulation is to drive the vehicle and aim for a maximum error of less than 1 meter throughout the entire duration. By adjusting the sliders provided, you can interactively control key parameters such as acceleration, steering angle, time step, and polynomial degree. This interactive environment enables you to analyze and visualize the impact of these parameters on the vehicle's trajectory and error measurements in real-time.\n",
    "\n",
    "The following sliders are available for your control and observation:\n",
    "\n",
    "1. **Acceleration Slider**:\n",
    "    - This slider governs the acceleration value of the vehicle, expressed in meters per second squared (m/s^2).\n",
    "    - Adjusting the slider modifies the acceleration input, allowing you to simulate different acceleration scenarios.\n",
    "    - The chosen acceleration value directly influences the rate at which the vehicle's velocity changes.\n",
    "\n",
    "2. **Steering Slider**:\n",
    "    - The steering slider empowers you to control the steering angle of the vehicle, measured in degrees.\n",
    "    - Altering the slider position varies the steering input, enabling you to simulate diverse turning maneuvers.\n",
    "    - The steering angle plays a vital role in determining the direction in which the vehicle turns.\n",
    "\n",
    "3. **Time Step Slider**:\n",
    "    - This slider determines the time step utilized in the simulation, measured in seconds (s).\n",
    "    - By adjusting the time step, you can modify the duration between successive updates of the vehicle's state.\n",
    "    - Smaller time steps result in more frequent updates and yield a finer-grained simulation, whereas larger time steps reduce computational overhead.\n",
    "\n",
    "4. **Polynomial Degree Slider**:\n",
    "    - The polynomial degree slider enables you to modify the degree of the polynomial utilized for fitting the curve to the transformed path.\n",
    "    - Adjusting the slider alters the degree of the polynomial, thereby influencing the complexity and accuracy of the fitted curve.\n",
    "    - Higher degrees allow the polynomial to capture more intricate patterns within the data, but also pose a greater risk of overfitting. Conversely, lower degrees yield simpler curves that may not fully capture the desired trajectory.\n",
    "\n",
    "By interactively manipulating these sliders, you can actively engage with the simulation, observing and analyzing how variations in acceleration, steering angle, time step, and polynomial degree impact the vehicle's trajectory and error measurements. This professional and dynamic environment provides a powerful tool for understanding the relationships between different parameters and the resulting behavior of the vehicle."
   ]
  },
  {
   "cell_type": "code",
   "execution_count": 13,
   "metadata": {},
   "outputs": [
    {
     "data": {
      "application/vnd.jupyter.widget-view+json": {
       "model_id": "c5b3e9121c4143489482c40b06ced7e9",
       "version_major": 2,
       "version_minor": 0
      },
      "text/plain": [
       "FloatSlider(value=0.01, continuous_update=False, description='time step (s):', max=1.0, min=0.01, step=0.05)"
      ]
     },
     "metadata": {},
     "output_type": "display_data"
    },
    {
     "data": {
      "application/vnd.jupyter.widget-view+json": {
       "model_id": "6697c2a6bd7b4c7398cce0d56922c61c",
       "version_major": 2,
       "version_minor": 0
      },
      "text/plain": [
       "FloatSlider(value=0.0, continuous_update=False, description='accel(m/s^2):', max=2.0, min=-2.0, step=0.01)"
      ]
     },
     "metadata": {},
     "output_type": "display_data"
    },
    {
     "data": {
      "application/vnd.jupyter.widget-view+json": {
       "model_id": "8ccbe6870d5b4f8dbbdf94f6ae7419a5",
       "version_major": 2,
       "version_minor": 0
      },
      "text/plain": [
       "FloatSlider(value=0.0, continuous_update=False, description='δ (deg):', max=30.0, min=-30.0)"
      ]
     },
     "metadata": {},
     "output_type": "display_data"
    },
    {
     "data": {
      "application/vnd.jupyter.widget-view+json": {
       "model_id": "5d0da60a0f8e4c67b1d248bd144f1270",
       "version_major": 2,
       "version_minor": 0
      },
      "text/plain": [
       "IntSlider(value=3, continuous_update=False, description='Poly deg:', max=9, min=2)"
      ]
     },
     "metadata": {},
     "output_type": "display_data"
    },
    {
     "data": {
      "application/vnd.jupyter.widget-view+json": {
       "model_id": "a9a761cfee454ed884b4ef151e4c8db5",
       "version_major": 2,
       "version_minor": 0
      },
      "text/plain": [
       "Output()"
      ]
     },
     "metadata": {},
     "output_type": "display_data"
    },
    {
     "data": {
      "application/vnd.jupyter.widget-view+json": {
       "model_id": "adf5b71cd1874332ae76bc8e41b53e0f",
       "version_major": 2,
       "version_minor": 0
      },
      "text/plain": [
       "Button(description='Update', style=ButtonStyle())"
      ]
     },
     "metadata": {},
     "output_type": "display_data"
    }
   ],
   "source": [
    "# Load path from json\n",
    "file = open('dataset/path.json', 'r')\n",
    "data = json.load(file)\n",
    "path = np.asarray(data[\"path\"])\n",
    "file.close()\n",
    "\n",
    "# Create car\n",
    "wheelbase = 2.5 # m\n",
    "car_width = 1.5 # m\n",
    "x0 = path[0,0]\n",
    "y0 = path[0,1]\n",
    "psi0 = 0.0 # degrees\n",
    "t = 0\n",
    "\n",
    "car = KinematicBicycleModel(wheelbase, car_width= car_width,x0 = x0, y0=y0, psi0 = np.radians(psi0))\n",
    "state = car.get_state()\n",
    "path_transformed = path_to_car_perspective(state, path)\n",
    "\n",
    "output = widgets.Output()\n",
    "\n",
    "# Define what happens when buttons are clicked\n",
    "def on_update_button_clicked(b):\n",
    "    global t\n",
    "    u_t = Actuators(accel_slider.value, -np.radians(steering_slider.value))\n",
    "    dt = dt_slider.value\n",
    "    state = car.update(u_t, dt)\n",
    "    path_transformed = path_to_car_perspective(state, path)\n",
    "\n",
    "    # polyfit\n",
    "    xs = path_transformed[:, 1]\n",
    "    ys = path_transformed[:, 0]\n",
    "    coeff = np.polyfit(xs, ys, deg_slider.value)\n",
    "    \n",
    "    # plot car\n",
    "    t += dt\n",
    "    plot_car_perspectives(state, path, path_transformed, coeff=coeff, output = output)\n",
    "\n",
    "# Define buttons\n",
    "update_button = widgets.Button(description='Update')\n",
    "\n",
    "# Define acceleration slider\n",
    "accel_slider = widgets.FloatSlider(\n",
    "value=0,\n",
    "min=-2.0,\n",
    "max=2.0,\n",
    "step=0.01,\n",
    "description='accel(m/s^2):',\n",
    "continuous_update=False\n",
    ")\n",
    "\n",
    "steering_slider = widgets.FloatSlider(\n",
    "    value=0,\n",
    "    min=-30.0,\n",
    "    max=30.0,\n",
    "    step=0.1,\n",
    "    description='δ (deg):',\n",
    "    continuous_update=False\n",
    ")\n",
    "\n",
    "dt_slider = widgets.FloatSlider(\n",
    "    value=0.00,\n",
    "    min=0.01,\n",
    "    max=1,\n",
    "    step=0.05,\n",
    "    description='time step (s):',\n",
    "    continuous_update=False\n",
    ")\n",
    "\n",
    "\n",
    "deg_slider = widgets.IntSlider(\n",
    "    value=3,\n",
    "    min=2,\n",
    "    max=9,\n",
    "    step=1,\n",
    "    description='Poly deg:',\n",
    "    continuous_update=False\n",
    ")\n",
    "# Attach the event to the buttons\n",
    "update_button.on_click(on_update_button_clicked)\n",
    "\n",
    "# Display slider, arrow keys and output\n",
    "display(dt_slider, accel_slider, steering_slider,deg_slider, output, update_button)\n",
    "\n",
    "# plot first state\n",
    "state = car.get_state()\n",
    "path_transformed = path_to_car_perspective(state, path)\n",
    "plot_car_perspectives(state, path, path_transformed, output = output)"
   ]
  }
 ],
 "metadata": {
  "kernelspec": {
   "display_name": "Python 3",
   "language": "python",
   "name": "python3"
  },
  "language_info": {
   "codemirror_mode": {
    "name": "ipython",
    "version": 3
   },
   "file_extension": ".py",
   "mimetype": "text/x-python",
   "name": "python",
   "nbconvert_exporter": "python",
   "pygments_lexer": "ipython3",
   "version": "3.7.16"
  },
  "orig_nbformat": 4
 },
 "nbformat": 4,
 "nbformat_minor": 2
}
